{
  "cells": [
    {
      "attachments": {},
      "cell_type": "markdown",
      "id": "5e3e750e",
      "metadata": {},
      "source": [
        "In this noebook we are going to Pre-Process our text data. Our aim after running this note is to create a csv file which has the following attributes - AuthorName, Folder, File, Message ID, Processed_Text, Raw Text. As such we are removing any unwanted data from our raw_text data using Regular Expression. In the Processed_text we are only interested in the chat(text data) sent over email and are not concered with other other data like the Filename or forwareded by etc.  "
      ]
    },
    {
      "cell_type": "code",
      "execution_count": null,
      "id": "e767f037",
      "metadata": {},
      "outputs": [],
      "source": [
        "# importing libraries\n",
        "import re\n",
        "import numpy as np\n",
        "import os\n",
        "import pandas as pd"
      ]
    },
    {
      "cell_type": "code",
      "execution_count": 4,
      "id": "9a62bc8c",
      "metadata": {
        "id": "9a62bc8c"
      },
      "outputs": [],
      "source": [
        "# this function receives raw text and removes the following items - Filename and Forwarded By data\n",
        "\n",
        "def raw_text_processing(TextRaw):\n",
        "    \n",
        "    if re.search(r\"X-FileName:.+\\n+((.+\\n\\n?)+)\", TextRaw):\n",
        "        text = re.search(r\"X-FileName:.+\\n+((?:.+\\n\\n?)+)\", TextRaw).group(1)\n",
        "        \n",
        "        if re.match(r\"-{3,} Forwarded by.+\\d+\\/\\d+\\/\\d+\", text):\n",
        "            return np.NaN\n",
        "        \n",
        "        if re.search(r\"-{3,} Forwarded by.+\\d+\\/\\d+\\/\\d+[\\w\\W]+\", text):\n",
        "            text = re.sub(r\"-{3,} Forwarded by.+\\d+\\/\\d+\\/\\d+[\\w\\W]+\", \"\", text)\n",
        "        \n",
        "        if re.search(r\"-{5,}Original Message-{5,}[\\w\\W].*\", text):\n",
        "            text = re.sub(r\"-{5,}Original Message-{5,}[\\w\\W]*[\\n]*.*\", \"\", text)\n",
        "            \n",
        "        if text:\n",
        "            return text\n",
        "        else:\n",
        "            return np.NaN\n",
        "        \n",
        "    elif re.search(r\"X-FileName:.+\\n+(.+)\", TextRaw):\n",
        "        text = re.search(r\"X-FileName:.+\\n+(.+)\", TextRaw).group(1)\n",
        "        \n",
        "        if re.match(r\"-{3,} Forwarded by.+\\d+\\/\\d+\\/\\d+\", text):\n",
        "            return np.NaN\n",
        "    \n",
        "        if re.search(r\"-{3,} Forwarded by.+\\d+\\/\\d+\\/\\d+[\\w\\W]+\", text):\n",
        "            text = re.sub(r\"-{3,} Forwarded by.+\\d+\\/\\d+\\/\\d+[\\w\\W]+\", \"\", text)\n",
        "        \n",
        "        if re.search(r\"-{5,}Original Message-{5,}[\\w\\W].*\", text):\n",
        "            text = re.sub(r\"-{5,}Original Message-{5,}[\\w\\W]*[\\n]*.*\", \"\", text)\n",
        "            \n",
        "        if text:\n",
        "            return text\n",
        "        else:\n",
        "            return np.NaN\n",
        "    \n",
        "    else:\n",
        "        return np.NaN\n",
        "    "
      ]
    },
    {
      "cell_type": "code",
      "execution_count": 5,
      "id": "655b4e0e",
      "metadata": {
        "id": "655b4e0e"
      },
      "outputs": [],
      "source": [
        "# this function receives the email file and returns the follwoing - EmailID, Sender, processed_text and raw text\n",
        "\n",
        "def read_email(File):\n",
        "  \n",
        "    with open(File, mode=\"r\") as f:\n",
        "        try:\n",
        "            TextRaw = f.read()\n",
        "        except FileNotFoundError as e:\n",
        "            return None, None, None, None\n",
        "    if re.search(r\"^Message-ID: <(\\d+\\.\\d+\\.)JavaMail\\.evans@thyme>\", TextRaw):\n",
        "        EmailID = re.search(r\"^Message-ID: <(\\d+\\.\\d+\\.)JavaMail\\.evans@thyme>\", TextRaw).group(1)\n",
        "    else:\n",
        "        raise Exception(\"No ID found {}\".format(File))\n",
        "    if re.search(r\"X-From: (.+) <?\", TextRaw):\n",
        "        SENDER = re.search(r\"X-From: (.+) <?\", TextRaw).group(1)\n",
        "    else:\n",
        "        print(\"No ID fpund{}\".format(File))\n",
        "        SENDER = np.NaN\n",
        "    \n",
        "    text = raw_text_processing(TextRaw)\n",
        "\n",
        "    return EmailID, SENDER, text, TextRaw"
      ]
    },
    {
      "cell_type": "code",
      "execution_count": 7,
      "id": "d9bee4d8",
      "metadata": {
        "id": "d9bee4d8"
      },
      "outputs": [],
      "source": [
        "# this function receives a author folder path and extratcs all his/her emails from sent, sent_mail and sent_items sub directory\n",
        "\n",
        "def extract_email(AUThor):\n",
        "  \n",
        "    RootFolder = \"./maildir/\"\n",
        "    Folder = [\"/sent/\", \"/_sent_mail/\", \"/sent_items/\"]\n",
        "    DataExtract = []\n",
        "\n",
        "    for folders in Folder:\n",
        "        try:\n",
        "            for message in os.listdir(RootFolder + AUThor + folders):\n",
        "                if os.path.isfile(RootFolder + AUThor + folders + message):\n",
        "                    EmailID, SENDER, text, TextRaw = read_email(RootFolder + AUThor + folders + message)\n",
        "                    if EmailID != None:\n",
        "                        DataExtract.append([SENDER, AUThor, message, EmailID, text, TextRaw])\n",
        "        except FileNotFoundError as e:\n",
        "            continue\n",
        "    return DataExtract"
      ]
    },
    {
      "cell_type": "code",
      "execution_count": 6,
      "id": "72dbd0f1",
      "metadata": {
        "id": "72dbd0f1",
        "outputId": "4c1d2f06-fd94-4b6b-b5ff-b8e2ae75cb2c"
      },
      "outputs": [
        {
          "name": "stderr",
          "output_type": "stream",
          "text": [
            "C:\\Users\\neels\\AppData\\Local\\Temp\\ipykernel_1748\\2895039270.py:8: FutureWarning: The frame.append method is deprecated and will be removed from pandas in a future version. Use pandas.concat instead.\n",
            "  df = df.append(pd.DataFrame(EMAIL, columns=[\"Author\", \"Folder\", \"File\", \"Message ID\", \"Text\", \"Raw Text\"]))\n",
            "C:\\Users\\neels\\AppData\\Local\\Temp\\ipykernel_1748\\2895039270.py:8: FutureWarning: The frame.append method is deprecated and will be removed from pandas in a future version. Use pandas.concat instead.\n",
            "  df = df.append(pd.DataFrame(EMAIL, columns=[\"Author\", \"Folder\", \"File\", \"Message ID\", \"Text\", \"Raw Text\"]))\n",
            "C:\\Users\\neels\\AppData\\Local\\Temp\\ipykernel_1748\\2895039270.py:8: FutureWarning: The frame.append method is deprecated and will be removed from pandas in a future version. Use pandas.concat instead.\n",
            "  df = df.append(pd.DataFrame(EMAIL, columns=[\"Author\", \"Folder\", \"File\", \"Message ID\", \"Text\", \"Raw Text\"]))\n",
            "C:\\Users\\neels\\AppData\\Local\\Temp\\ipykernel_1748\\2895039270.py:8: FutureWarning: The frame.append method is deprecated and will be removed from pandas in a future version. Use pandas.concat instead.\n",
            "  df = df.append(pd.DataFrame(EMAIL, columns=[\"Author\", \"Folder\", \"File\", \"Message ID\", \"Text\", \"Raw Text\"]))\n",
            "C:\\Users\\neels\\AppData\\Local\\Temp\\ipykernel_1748\\2895039270.py:8: FutureWarning: The frame.append method is deprecated and will be removed from pandas in a future version. Use pandas.concat instead.\n",
            "  df = df.append(pd.DataFrame(EMAIL, columns=[\"Author\", \"Folder\", \"File\", \"Message ID\", \"Text\", \"Raw Text\"]))\n",
            "C:\\Users\\neels\\AppData\\Local\\Temp\\ipykernel_1748\\2895039270.py:8: FutureWarning: The frame.append method is deprecated and will be removed from pandas in a future version. Use pandas.concat instead.\n",
            "  df = df.append(pd.DataFrame(EMAIL, columns=[\"Author\", \"Folder\", \"File\", \"Message ID\", \"Text\", \"Raw Text\"]))\n",
            "C:\\Users\\neels\\AppData\\Local\\Temp\\ipykernel_1748\\2895039270.py:8: FutureWarning: The frame.append method is deprecated and will be removed from pandas in a future version. Use pandas.concat instead.\n",
            "  df = df.append(pd.DataFrame(EMAIL, columns=[\"Author\", \"Folder\", \"File\", \"Message ID\", \"Text\", \"Raw Text\"]))\n",
            "C:\\Users\\neels\\AppData\\Local\\Temp\\ipykernel_1748\\2895039270.py:8: FutureWarning: The frame.append method is deprecated and will be removed from pandas in a future version. Use pandas.concat instead.\n",
            "  df = df.append(pd.DataFrame(EMAIL, columns=[\"Author\", \"Folder\", \"File\", \"Message ID\", \"Text\", \"Raw Text\"]))\n",
            "C:\\Users\\neels\\AppData\\Local\\Temp\\ipykernel_1748\\2895039270.py:8: FutureWarning: The frame.append method is deprecated and will be removed from pandas in a future version. Use pandas.concat instead.\n",
            "  df = df.append(pd.DataFrame(EMAIL, columns=[\"Author\", \"Folder\", \"File\", \"Message ID\", \"Text\", \"Raw Text\"]))\n",
            "C:\\Users\\neels\\AppData\\Local\\Temp\\ipykernel_1748\\2895039270.py:8: FutureWarning: The frame.append method is deprecated and will be removed from pandas in a future version. Use pandas.concat instead.\n",
            "  df = df.append(pd.DataFrame(EMAIL, columns=[\"Author\", \"Folder\", \"File\", \"Message ID\", \"Text\", \"Raw Text\"]))\n"
          ]
        },
        {
          "name": "stdout",
          "output_type": "stream",
          "text": [
            "Message ID not found for File ./maildir/brawner-s/sent_items/7\n"
          ]
        },
        {
          "name": "stderr",
          "output_type": "stream",
          "text": [
            "C:\\Users\\neels\\AppData\\Local\\Temp\\ipykernel_1748\\2895039270.py:8: FutureWarning: The frame.append method is deprecated and will be removed from pandas in a future version. Use pandas.concat instead.\n",
            "  df = df.append(pd.DataFrame(EMAIL, columns=[\"Author\", \"Folder\", \"File\", \"Message ID\", \"Text\", \"Raw Text\"]))\n",
            "C:\\Users\\neels\\AppData\\Local\\Temp\\ipykernel_1748\\2895039270.py:8: FutureWarning: The frame.append method is deprecated and will be removed from pandas in a future version. Use pandas.concat instead.\n",
            "  df = df.append(pd.DataFrame(EMAIL, columns=[\"Author\", \"Folder\", \"File\", \"Message ID\", \"Text\", \"Raw Text\"]))\n",
            "C:\\Users\\neels\\AppData\\Local\\Temp\\ipykernel_1748\\2895039270.py:8: FutureWarning: The frame.append method is deprecated and will be removed from pandas in a future version. Use pandas.concat instead.\n",
            "  df = df.append(pd.DataFrame(EMAIL, columns=[\"Author\", \"Folder\", \"File\", \"Message ID\", \"Text\", \"Raw Text\"]))\n",
            "C:\\Users\\neels\\AppData\\Local\\Temp\\ipykernel_1748\\2895039270.py:8: FutureWarning: The frame.append method is deprecated and will be removed from pandas in a future version. Use pandas.concat instead.\n",
            "  df = df.append(pd.DataFrame(EMAIL, columns=[\"Author\", \"Folder\", \"File\", \"Message ID\", \"Text\", \"Raw Text\"]))\n",
            "C:\\Users\\neels\\AppData\\Local\\Temp\\ipykernel_1748\\2895039270.py:8: FutureWarning: The frame.append method is deprecated and will be removed from pandas in a future version. Use pandas.concat instead.\n",
            "  df = df.append(pd.DataFrame(EMAIL, columns=[\"Author\", \"Folder\", \"File\", \"Message ID\", \"Text\", \"Raw Text\"]))\n",
            "C:\\Users\\neels\\AppData\\Local\\Temp\\ipykernel_1748\\2895039270.py:8: FutureWarning: The frame.append method is deprecated and will be removed from pandas in a future version. Use pandas.concat instead.\n",
            "  df = df.append(pd.DataFrame(EMAIL, columns=[\"Author\", \"Folder\", \"File\", \"Message ID\", \"Text\", \"Raw Text\"]))\n",
            "C:\\Users\\neels\\AppData\\Local\\Temp\\ipykernel_1748\\2895039270.py:8: FutureWarning: The frame.append method is deprecated and will be removed from pandas in a future version. Use pandas.concat instead.\n",
            "  df = df.append(pd.DataFrame(EMAIL, columns=[\"Author\", \"Folder\", \"File\", \"Message ID\", \"Text\", \"Raw Text\"]))\n",
            "C:\\Users\\neels\\AppData\\Local\\Temp\\ipykernel_1748\\2895039270.py:8: FutureWarning: The frame.append method is deprecated and will be removed from pandas in a future version. Use pandas.concat instead.\n",
            "  df = df.append(pd.DataFrame(EMAIL, columns=[\"Author\", \"Folder\", \"File\", \"Message ID\", \"Text\", \"Raw Text\"]))\n",
            "C:\\Users\\neels\\AppData\\Local\\Temp\\ipykernel_1748\\2895039270.py:8: FutureWarning: The frame.append method is deprecated and will be removed from pandas in a future version. Use pandas.concat instead.\n",
            "  df = df.append(pd.DataFrame(EMAIL, columns=[\"Author\", \"Folder\", \"File\", \"Message ID\", \"Text\", \"Raw Text\"]))\n",
            "C:\\Users\\neels\\AppData\\Local\\Temp\\ipykernel_1748\\2895039270.py:8: FutureWarning: The frame.append method is deprecated and will be removed from pandas in a future version. Use pandas.concat instead.\n",
            "  df = df.append(pd.DataFrame(EMAIL, columns=[\"Author\", \"Folder\", \"File\", \"Message ID\", \"Text\", \"Raw Text\"]))\n",
            "C:\\Users\\neels\\AppData\\Local\\Temp\\ipykernel_1748\\2895039270.py:8: FutureWarning: The frame.append method is deprecated and will be removed from pandas in a future version. Use pandas.concat instead.\n",
            "  df = df.append(pd.DataFrame(EMAIL, columns=[\"Author\", \"Folder\", \"File\", \"Message ID\", \"Text\", \"Raw Text\"]))\n",
            "C:\\Users\\neels\\AppData\\Local\\Temp\\ipykernel_1748\\2895039270.py:8: FutureWarning: The frame.append method is deprecated and will be removed from pandas in a future version. Use pandas.concat instead.\n",
            "  df = df.append(pd.DataFrame(EMAIL, columns=[\"Author\", \"Folder\", \"File\", \"Message ID\", \"Text\", \"Raw Text\"]))\n",
            "C:\\Users\\neels\\AppData\\Local\\Temp\\ipykernel_1748\\2895039270.py:8: FutureWarning: The frame.append method is deprecated and will be removed from pandas in a future version. Use pandas.concat instead.\n",
            "  df = df.append(pd.DataFrame(EMAIL, columns=[\"Author\", \"Folder\", \"File\", \"Message ID\", \"Text\", \"Raw Text\"]))\n",
            "C:\\Users\\neels\\AppData\\Local\\Temp\\ipykernel_1748\\2895039270.py:8: FutureWarning: The frame.append method is deprecated and will be removed from pandas in a future version. Use pandas.concat instead.\n",
            "  df = df.append(pd.DataFrame(EMAIL, columns=[\"Author\", \"Folder\", \"File\", \"Message ID\", \"Text\", \"Raw Text\"]))\n",
            "C:\\Users\\neels\\AppData\\Local\\Temp\\ipykernel_1748\\2895039270.py:8: FutureWarning: The frame.append method is deprecated and will be removed from pandas in a future version. Use pandas.concat instead.\n",
            "  df = df.append(pd.DataFrame(EMAIL, columns=[\"Author\", \"Folder\", \"File\", \"Message ID\", \"Text\", \"Raw Text\"]))\n",
            "C:\\Users\\neels\\AppData\\Local\\Temp\\ipykernel_1748\\2895039270.py:8: FutureWarning: The frame.append method is deprecated and will be removed from pandas in a future version. Use pandas.concat instead.\n",
            "  df = df.append(pd.DataFrame(EMAIL, columns=[\"Author\", \"Folder\", \"File\", \"Message ID\", \"Text\", \"Raw Text\"]))\n",
            "C:\\Users\\neels\\AppData\\Local\\Temp\\ipykernel_1748\\2895039270.py:8: FutureWarning: The frame.append method is deprecated and will be removed from pandas in a future version. Use pandas.concat instead.\n",
            "  df = df.append(pd.DataFrame(EMAIL, columns=[\"Author\", \"Folder\", \"File\", \"Message ID\", \"Text\", \"Raw Text\"]))\n",
            "C:\\Users\\neels\\AppData\\Local\\Temp\\ipykernel_1748\\2895039270.py:8: FutureWarning: The frame.append method is deprecated and will be removed from pandas in a future version. Use pandas.concat instead.\n",
            "  df = df.append(pd.DataFrame(EMAIL, columns=[\"Author\", \"Folder\", \"File\", \"Message ID\", \"Text\", \"Raw Text\"]))\n",
            "C:\\Users\\neels\\AppData\\Local\\Temp\\ipykernel_1748\\2895039270.py:8: FutureWarning: The frame.append method is deprecated and will be removed from pandas in a future version. Use pandas.concat instead.\n",
            "  df = df.append(pd.DataFrame(EMAIL, columns=[\"Author\", \"Folder\", \"File\", \"Message ID\", \"Text\", \"Raw Text\"]))\n",
            "C:\\Users\\neels\\AppData\\Local\\Temp\\ipykernel_1748\\2895039270.py:8: FutureWarning: The frame.append method is deprecated and will be removed from pandas in a future version. Use pandas.concat instead.\n",
            "  df = df.append(pd.DataFrame(EMAIL, columns=[\"Author\", \"Folder\", \"File\", \"Message ID\", \"Text\", \"Raw Text\"]))\n",
            "C:\\Users\\neels\\AppData\\Local\\Temp\\ipykernel_1748\\2895039270.py:8: FutureWarning: The frame.append method is deprecated and will be removed from pandas in a future version. Use pandas.concat instead.\n",
            "  df = df.append(pd.DataFrame(EMAIL, columns=[\"Author\", \"Folder\", \"File\", \"Message ID\", \"Text\", \"Raw Text\"]))\n"
          ]
        },
        {
          "name": "stdout",
          "output_type": "stream",
          "text": [
            "Message ID not found for File ./maildir/forney-j/sent_items/158\n"
          ]
        },
        {
          "name": "stderr",
          "output_type": "stream",
          "text": [
            "C:\\Users\\neels\\AppData\\Local\\Temp\\ipykernel_1748\\2895039270.py:8: FutureWarning: The frame.append method is deprecated and will be removed from pandas in a future version. Use pandas.concat instead.\n",
            "  df = df.append(pd.DataFrame(EMAIL, columns=[\"Author\", \"Folder\", \"File\", \"Message ID\", \"Text\", \"Raw Text\"]))\n",
            "C:\\Users\\neels\\AppData\\Local\\Temp\\ipykernel_1748\\2895039270.py:8: FutureWarning: The frame.append method is deprecated and will be removed from pandas in a future version. Use pandas.concat instead.\n",
            "  df = df.append(pd.DataFrame(EMAIL, columns=[\"Author\", \"Folder\", \"File\", \"Message ID\", \"Text\", \"Raw Text\"]))\n",
            "C:\\Users\\neels\\AppData\\Local\\Temp\\ipykernel_1748\\2895039270.py:8: FutureWarning: The frame.append method is deprecated and will be removed from pandas in a future version. Use pandas.concat instead.\n",
            "  df = df.append(pd.DataFrame(EMAIL, columns=[\"Author\", \"Folder\", \"File\", \"Message ID\", \"Text\", \"Raw Text\"]))\n",
            "C:\\Users\\neels\\AppData\\Local\\Temp\\ipykernel_1748\\2895039270.py:8: FutureWarning: The frame.append method is deprecated and will be removed from pandas in a future version. Use pandas.concat instead.\n",
            "  df = df.append(pd.DataFrame(EMAIL, columns=[\"Author\", \"Folder\", \"File\", \"Message ID\", \"Text\", \"Raw Text\"]))\n",
            "C:\\Users\\neels\\AppData\\Local\\Temp\\ipykernel_1748\\2895039270.py:8: FutureWarning: The frame.append method is deprecated and will be removed from pandas in a future version. Use pandas.concat instead.\n",
            "  df = df.append(pd.DataFrame(EMAIL, columns=[\"Author\", \"Folder\", \"File\", \"Message ID\", \"Text\", \"Raw Text\"]))\n"
          ]
        },
        {
          "name": "stdout",
          "output_type": "stream",
          "text": [
            "Message ID not found for File ./maildir/germany-c/_sent_mail/1309\n",
            "Message ID not found for File ./maildir/germany-c/sent_items/1026\n"
          ]
        },
        {
          "name": "stderr",
          "output_type": "stream",
          "text": [
            "C:\\Users\\neels\\AppData\\Local\\Temp\\ipykernel_1748\\2895039270.py:8: FutureWarning: The frame.append method is deprecated and will be removed from pandas in a future version. Use pandas.concat instead.\n",
            "  df = df.append(pd.DataFrame(EMAIL, columns=[\"Author\", \"Folder\", \"File\", \"Message ID\", \"Text\", \"Raw Text\"]))\n",
            "C:\\Users\\neels\\AppData\\Local\\Temp\\ipykernel_1748\\2895039270.py:8: FutureWarning: The frame.append method is deprecated and will be removed from pandas in a future version. Use pandas.concat instead.\n",
            "  df = df.append(pd.DataFrame(EMAIL, columns=[\"Author\", \"Folder\", \"File\", \"Message ID\", \"Text\", \"Raw Text\"]))\n",
            "C:\\Users\\neels\\AppData\\Local\\Temp\\ipykernel_1748\\2895039270.py:8: FutureWarning: The frame.append method is deprecated and will be removed from pandas in a future version. Use pandas.concat instead.\n",
            "  df = df.append(pd.DataFrame(EMAIL, columns=[\"Author\", \"Folder\", \"File\", \"Message ID\", \"Text\", \"Raw Text\"]))\n",
            "C:\\Users\\neels\\AppData\\Local\\Temp\\ipykernel_1748\\2895039270.py:8: FutureWarning: The frame.append method is deprecated and will be removed from pandas in a future version. Use pandas.concat instead.\n",
            "  df = df.append(pd.DataFrame(EMAIL, columns=[\"Author\", \"Folder\", \"File\", \"Message ID\", \"Text\", \"Raw Text\"]))\n",
            "C:\\Users\\neels\\AppData\\Local\\Temp\\ipykernel_1748\\2895039270.py:8: FutureWarning: The frame.append method is deprecated and will be removed from pandas in a future version. Use pandas.concat instead.\n",
            "  df = df.append(pd.DataFrame(EMAIL, columns=[\"Author\", \"Folder\", \"File\", \"Message ID\", \"Text\", \"Raw Text\"]))\n",
            "C:\\Users\\neels\\AppData\\Local\\Temp\\ipykernel_1748\\2895039270.py:8: FutureWarning: The frame.append method is deprecated and will be removed from pandas in a future version. Use pandas.concat instead.\n",
            "  df = df.append(pd.DataFrame(EMAIL, columns=[\"Author\", \"Folder\", \"File\", \"Message ID\", \"Text\", \"Raw Text\"]))\n",
            "C:\\Users\\neels\\AppData\\Local\\Temp\\ipykernel_1748\\2895039270.py:8: FutureWarning: The frame.append method is deprecated and will be removed from pandas in a future version. Use pandas.concat instead.\n",
            "  df = df.append(pd.DataFrame(EMAIL, columns=[\"Author\", \"Folder\", \"File\", \"Message ID\", \"Text\", \"Raw Text\"]))\n",
            "C:\\Users\\neels\\AppData\\Local\\Temp\\ipykernel_1748\\2895039270.py:8: FutureWarning: The frame.append method is deprecated and will be removed from pandas in a future version. Use pandas.concat instead.\n",
            "  df = df.append(pd.DataFrame(EMAIL, columns=[\"Author\", \"Folder\", \"File\", \"Message ID\", \"Text\", \"Raw Text\"]))\n",
            "C:\\Users\\neels\\AppData\\Local\\Temp\\ipykernel_1748\\2895039270.py:8: FutureWarning: The frame.append method is deprecated and will be removed from pandas in a future version. Use pandas.concat instead.\n",
            "  df = df.append(pd.DataFrame(EMAIL, columns=[\"Author\", \"Folder\", \"File\", \"Message ID\", \"Text\", \"Raw Text\"]))\n",
            "C:\\Users\\neels\\AppData\\Local\\Temp\\ipykernel_1748\\2895039270.py:8: FutureWarning: The frame.append method is deprecated and will be removed from pandas in a future version. Use pandas.concat instead.\n",
            "  df = df.append(pd.DataFrame(EMAIL, columns=[\"Author\", \"Folder\", \"File\", \"Message ID\", \"Text\", \"Raw Text\"]))\n",
            "C:\\Users\\neels\\AppData\\Local\\Temp\\ipykernel_1748\\2895039270.py:8: FutureWarning: The frame.append method is deprecated and will be removed from pandas in a future version. Use pandas.concat instead.\n",
            "  df = df.append(pd.DataFrame(EMAIL, columns=[\"Author\", \"Folder\", \"File\", \"Message ID\", \"Text\", \"Raw Text\"]))\n",
            "C:\\Users\\neels\\AppData\\Local\\Temp\\ipykernel_1748\\2895039270.py:8: FutureWarning: The frame.append method is deprecated and will be removed from pandas in a future version. Use pandas.concat instead.\n",
            "  df = df.append(pd.DataFrame(EMAIL, columns=[\"Author\", \"Folder\", \"File\", \"Message ID\", \"Text\", \"Raw Text\"]))\n"
          ]
        },
        {
          "name": "stdout",
          "output_type": "stream",
          "text": [
            "Message ID not found for File ./maildir/hodge-j/sent_items/14\n"
          ]
        },
        {
          "name": "stderr",
          "output_type": "stream",
          "text": [
            "C:\\Users\\neels\\AppData\\Local\\Temp\\ipykernel_1748\\2895039270.py:8: FutureWarning: The frame.append method is deprecated and will be removed from pandas in a future version. Use pandas.concat instead.\n",
            "  df = df.append(pd.DataFrame(EMAIL, columns=[\"Author\", \"Folder\", \"File\", \"Message ID\", \"Text\", \"Raw Text\"]))\n",
            "C:\\Users\\neels\\AppData\\Local\\Temp\\ipykernel_1748\\2895039270.py:8: FutureWarning: The frame.append method is deprecated and will be removed from pandas in a future version. Use pandas.concat instead.\n",
            "  df = df.append(pd.DataFrame(EMAIL, columns=[\"Author\", \"Folder\", \"File\", \"Message ID\", \"Text\", \"Raw Text\"]))\n",
            "C:\\Users\\neels\\AppData\\Local\\Temp\\ipykernel_1748\\2895039270.py:8: FutureWarning: The frame.append method is deprecated and will be removed from pandas in a future version. Use pandas.concat instead.\n",
            "  df = df.append(pd.DataFrame(EMAIL, columns=[\"Author\", \"Folder\", \"File\", \"Message ID\", \"Text\", \"Raw Text\"]))\n",
            "C:\\Users\\neels\\AppData\\Local\\Temp\\ipykernel_1748\\2895039270.py:8: FutureWarning: The frame.append method is deprecated and will be removed from pandas in a future version. Use pandas.concat instead.\n",
            "  df = df.append(pd.DataFrame(EMAIL, columns=[\"Author\", \"Folder\", \"File\", \"Message ID\", \"Text\", \"Raw Text\"]))\n",
            "C:\\Users\\neels\\AppData\\Local\\Temp\\ipykernel_1748\\2895039270.py:8: FutureWarning: The frame.append method is deprecated and will be removed from pandas in a future version. Use pandas.concat instead.\n",
            "  df = df.append(pd.DataFrame(EMAIL, columns=[\"Author\", \"Folder\", \"File\", \"Message ID\", \"Text\", \"Raw Text\"]))\n",
            "C:\\Users\\neels\\AppData\\Local\\Temp\\ipykernel_1748\\2895039270.py:8: FutureWarning: The frame.append method is deprecated and will be removed from pandas in a future version. Use pandas.concat instead.\n",
            "  df = df.append(pd.DataFrame(EMAIL, columns=[\"Author\", \"Folder\", \"File\", \"Message ID\", \"Text\", \"Raw Text\"]))\n",
            "C:\\Users\\neels\\AppData\\Local\\Temp\\ipykernel_1748\\2895039270.py:8: FutureWarning: The frame.append method is deprecated and will be removed from pandas in a future version. Use pandas.concat instead.\n",
            "  df = df.append(pd.DataFrame(EMAIL, columns=[\"Author\", \"Folder\", \"File\", \"Message ID\", \"Text\", \"Raw Text\"]))\n",
            "C:\\Users\\neels\\AppData\\Local\\Temp\\ipykernel_1748\\2895039270.py:8: FutureWarning: The frame.append method is deprecated and will be removed from pandas in a future version. Use pandas.concat instead.\n",
            "  df = df.append(pd.DataFrame(EMAIL, columns=[\"Author\", \"Folder\", \"File\", \"Message ID\", \"Text\", \"Raw Text\"]))\n",
            "C:\\Users\\neels\\AppData\\Local\\Temp\\ipykernel_1748\\2895039270.py:8: FutureWarning: The frame.append method is deprecated and will be removed from pandas in a future version. Use pandas.concat instead.\n",
            "  df = df.append(pd.DataFrame(EMAIL, columns=[\"Author\", \"Folder\", \"File\", \"Message ID\", \"Text\", \"Raw Text\"]))\n",
            "C:\\Users\\neels\\AppData\\Local\\Temp\\ipykernel_1748\\2895039270.py:8: FutureWarning: The frame.append method is deprecated and will be removed from pandas in a future version. Use pandas.concat instead.\n",
            "  df = df.append(pd.DataFrame(EMAIL, columns=[\"Author\", \"Folder\", \"File\", \"Message ID\", \"Text\", \"Raw Text\"]))\n",
            "C:\\Users\\neels\\AppData\\Local\\Temp\\ipykernel_1748\\2895039270.py:8: FutureWarning: The frame.append method is deprecated and will be removed from pandas in a future version. Use pandas.concat instead.\n",
            "  df = df.append(pd.DataFrame(EMAIL, columns=[\"Author\", \"Folder\", \"File\", \"Message ID\", \"Text\", \"Raw Text\"]))\n",
            "C:\\Users\\neels\\AppData\\Local\\Temp\\ipykernel_1748\\2895039270.py:8: FutureWarning: The frame.append method is deprecated and will be removed from pandas in a future version. Use pandas.concat instead.\n",
            "  df = df.append(pd.DataFrame(EMAIL, columns=[\"Author\", \"Folder\", \"File\", \"Message ID\", \"Text\", \"Raw Text\"]))\n",
            "C:\\Users\\neels\\AppData\\Local\\Temp\\ipykernel_1748\\2895039270.py:8: FutureWarning: The frame.append method is deprecated and will be removed from pandas in a future version. Use pandas.concat instead.\n",
            "  df = df.append(pd.DataFrame(EMAIL, columns=[\"Author\", \"Folder\", \"File\", \"Message ID\", \"Text\", \"Raw Text\"]))\n",
            "C:\\Users\\neels\\AppData\\Local\\Temp\\ipykernel_1748\\2895039270.py:8: FutureWarning: The frame.append method is deprecated and will be removed from pandas in a future version. Use pandas.concat instead.\n",
            "  df = df.append(pd.DataFrame(EMAIL, columns=[\"Author\", \"Folder\", \"File\", \"Message ID\", \"Text\", \"Raw Text\"]))\n",
            "C:\\Users\\neels\\AppData\\Local\\Temp\\ipykernel_1748\\2895039270.py:8: FutureWarning: The frame.append method is deprecated and will be removed from pandas in a future version. Use pandas.concat instead.\n",
            "  df = df.append(pd.DataFrame(EMAIL, columns=[\"Author\", \"Folder\", \"File\", \"Message ID\", \"Text\", \"Raw Text\"]))\n"
          ]
        },
        {
          "name": "stdout",
          "output_type": "stream",
          "text": [
            "Message ID not found for File ./maildir/lenhart-m/sent_items/235\n"
          ]
        },
        {
          "name": "stderr",
          "output_type": "stream",
          "text": [
            "C:\\Users\\neels\\AppData\\Local\\Temp\\ipykernel_1748\\2895039270.py:8: FutureWarning: The frame.append method is deprecated and will be removed from pandas in a future version. Use pandas.concat instead.\n",
            "  df = df.append(pd.DataFrame(EMAIL, columns=[\"Author\", \"Folder\", \"File\", \"Message ID\", \"Text\", \"Raw Text\"]))\n",
            "C:\\Users\\neels\\AppData\\Local\\Temp\\ipykernel_1748\\2895039270.py:8: FutureWarning: The frame.append method is deprecated and will be removed from pandas in a future version. Use pandas.concat instead.\n",
            "  df = df.append(pd.DataFrame(EMAIL, columns=[\"Author\", \"Folder\", \"File\", \"Message ID\", \"Text\", \"Raw Text\"]))\n",
            "C:\\Users\\neels\\AppData\\Local\\Temp\\ipykernel_1748\\2895039270.py:8: FutureWarning: The frame.append method is deprecated and will be removed from pandas in a future version. Use pandas.concat instead.\n",
            "  df = df.append(pd.DataFrame(EMAIL, columns=[\"Author\", \"Folder\", \"File\", \"Message ID\", \"Text\", \"Raw Text\"]))\n",
            "C:\\Users\\neels\\AppData\\Local\\Temp\\ipykernel_1748\\2895039270.py:8: FutureWarning: The frame.append method is deprecated and will be removed from pandas in a future version. Use pandas.concat instead.\n",
            "  df = df.append(pd.DataFrame(EMAIL, columns=[\"Author\", \"Folder\", \"File\", \"Message ID\", \"Text\", \"Raw Text\"]))\n",
            "C:\\Users\\neels\\AppData\\Local\\Temp\\ipykernel_1748\\2895039270.py:8: FutureWarning: The frame.append method is deprecated and will be removed from pandas in a future version. Use pandas.concat instead.\n",
            "  df = df.append(pd.DataFrame(EMAIL, columns=[\"Author\", \"Folder\", \"File\", \"Message ID\", \"Text\", \"Raw Text\"]))\n",
            "C:\\Users\\neels\\AppData\\Local\\Temp\\ipykernel_1748\\2895039270.py:8: FutureWarning: The frame.append method is deprecated and will be removed from pandas in a future version. Use pandas.concat instead.\n",
            "  df = df.append(pd.DataFrame(EMAIL, columns=[\"Author\", \"Folder\", \"File\", \"Message ID\", \"Text\", \"Raw Text\"]))\n",
            "C:\\Users\\neels\\AppData\\Local\\Temp\\ipykernel_1748\\2895039270.py:8: FutureWarning: The frame.append method is deprecated and will be removed from pandas in a future version. Use pandas.concat instead.\n",
            "  df = df.append(pd.DataFrame(EMAIL, columns=[\"Author\", \"Folder\", \"File\", \"Message ID\", \"Text\", \"Raw Text\"]))\n"
          ]
        },
        {
          "name": "stdout",
          "output_type": "stream",
          "text": [
            "Message ID not found for File ./maildir/maggi-m/sent_items/22\n"
          ]
        },
        {
          "name": "stderr",
          "output_type": "stream",
          "text": [
            "C:\\Users\\neels\\AppData\\Local\\Temp\\ipykernel_1748\\2895039270.py:8: FutureWarning: The frame.append method is deprecated and will be removed from pandas in a future version. Use pandas.concat instead.\n",
            "  df = df.append(pd.DataFrame(EMAIL, columns=[\"Author\", \"Folder\", \"File\", \"Message ID\", \"Text\", \"Raw Text\"]))\n",
            "C:\\Users\\neels\\AppData\\Local\\Temp\\ipykernel_1748\\2895039270.py:8: FutureWarning: The frame.append method is deprecated and will be removed from pandas in a future version. Use pandas.concat instead.\n",
            "  df = df.append(pd.DataFrame(EMAIL, columns=[\"Author\", \"Folder\", \"File\", \"Message ID\", \"Text\", \"Raw Text\"]))\n",
            "C:\\Users\\neels\\AppData\\Local\\Temp\\ipykernel_1748\\2895039270.py:8: FutureWarning: The frame.append method is deprecated and will be removed from pandas in a future version. Use pandas.concat instead.\n",
            "  df = df.append(pd.DataFrame(EMAIL, columns=[\"Author\", \"Folder\", \"File\", \"Message ID\", \"Text\", \"Raw Text\"]))\n"
          ]
        },
        {
          "name": "stdout",
          "output_type": "stream",
          "text": [
            "Message ID not found for File ./maildir/may-l/sent_items/19\n"
          ]
        },
        {
          "name": "stderr",
          "output_type": "stream",
          "text": [
            "C:\\Users\\neels\\AppData\\Local\\Temp\\ipykernel_1748\\2895039270.py:8: FutureWarning: The frame.append method is deprecated and will be removed from pandas in a future version. Use pandas.concat instead.\n",
            "  df = df.append(pd.DataFrame(EMAIL, columns=[\"Author\", \"Folder\", \"File\", \"Message ID\", \"Text\", \"Raw Text\"]))\n",
            "C:\\Users\\neels\\AppData\\Local\\Temp\\ipykernel_1748\\2895039270.py:8: FutureWarning: The frame.append method is deprecated and will be removed from pandas in a future version. Use pandas.concat instead.\n",
            "  df = df.append(pd.DataFrame(EMAIL, columns=[\"Author\", \"Folder\", \"File\", \"Message ID\", \"Text\", \"Raw Text\"]))\n",
            "C:\\Users\\neels\\AppData\\Local\\Temp\\ipykernel_1748\\2895039270.py:8: FutureWarning: The frame.append method is deprecated and will be removed from pandas in a future version. Use pandas.concat instead.\n",
            "  df = df.append(pd.DataFrame(EMAIL, columns=[\"Author\", \"Folder\", \"File\", \"Message ID\", \"Text\", \"Raw Text\"]))\n",
            "C:\\Users\\neels\\AppData\\Local\\Temp\\ipykernel_1748\\2895039270.py:8: FutureWarning: The frame.append method is deprecated and will be removed from pandas in a future version. Use pandas.concat instead.\n",
            "  df = df.append(pd.DataFrame(EMAIL, columns=[\"Author\", \"Folder\", \"File\", \"Message ID\", \"Text\", \"Raw Text\"]))\n"
          ]
        },
        {
          "name": "stdout",
          "output_type": "stream",
          "text": [
            "Message ID not found for File ./maildir/mckay-j/sent_items/179\n"
          ]
        },
        {
          "name": "stderr",
          "output_type": "stream",
          "text": [
            "C:\\Users\\neels\\AppData\\Local\\Temp\\ipykernel_1748\\2895039270.py:8: FutureWarning: The frame.append method is deprecated and will be removed from pandas in a future version. Use pandas.concat instead.\n",
            "  df = df.append(pd.DataFrame(EMAIL, columns=[\"Author\", \"Folder\", \"File\", \"Message ID\", \"Text\", \"Raw Text\"]))\n",
            "C:\\Users\\neels\\AppData\\Local\\Temp\\ipykernel_1748\\2895039270.py:8: FutureWarning: The frame.append method is deprecated and will be removed from pandas in a future version. Use pandas.concat instead.\n",
            "  df = df.append(pd.DataFrame(EMAIL, columns=[\"Author\", \"Folder\", \"File\", \"Message ID\", \"Text\", \"Raw Text\"]))\n",
            "C:\\Users\\neels\\AppData\\Local\\Temp\\ipykernel_1748\\2895039270.py:8: FutureWarning: The frame.append method is deprecated and will be removed from pandas in a future version. Use pandas.concat instead.\n",
            "  df = df.append(pd.DataFrame(EMAIL, columns=[\"Author\", \"Folder\", \"File\", \"Message ID\", \"Text\", \"Raw Text\"]))\n",
            "C:\\Users\\neels\\AppData\\Local\\Temp\\ipykernel_1748\\2895039270.py:8: FutureWarning: The frame.append method is deprecated and will be removed from pandas in a future version. Use pandas.concat instead.\n",
            "  df = df.append(pd.DataFrame(EMAIL, columns=[\"Author\", \"Folder\", \"File\", \"Message ID\", \"Text\", \"Raw Text\"]))\n",
            "C:\\Users\\neels\\AppData\\Local\\Temp\\ipykernel_1748\\2895039270.py:8: FutureWarning: The frame.append method is deprecated and will be removed from pandas in a future version. Use pandas.concat instead.\n",
            "  df = df.append(pd.DataFrame(EMAIL, columns=[\"Author\", \"Folder\", \"File\", \"Message ID\", \"Text\", \"Raw Text\"]))\n",
            "C:\\Users\\neels\\AppData\\Local\\Temp\\ipykernel_1748\\2895039270.py:8: FutureWarning: The frame.append method is deprecated and will be removed from pandas in a future version. Use pandas.concat instead.\n",
            "  df = df.append(pd.DataFrame(EMAIL, columns=[\"Author\", \"Folder\", \"File\", \"Message ID\", \"Text\", \"Raw Text\"]))\n",
            "C:\\Users\\neels\\AppData\\Local\\Temp\\ipykernel_1748\\2895039270.py:8: FutureWarning: The frame.append method is deprecated and will be removed from pandas in a future version. Use pandas.concat instead.\n",
            "  df = df.append(pd.DataFrame(EMAIL, columns=[\"Author\", \"Folder\", \"File\", \"Message ID\", \"Text\", \"Raw Text\"]))\n",
            "C:\\Users\\neels\\AppData\\Local\\Temp\\ipykernel_1748\\2895039270.py:8: FutureWarning: The frame.append method is deprecated and will be removed from pandas in a future version. Use pandas.concat instead.\n",
            "  df = df.append(pd.DataFrame(EMAIL, columns=[\"Author\", \"Folder\", \"File\", \"Message ID\", \"Text\", \"Raw Text\"]))\n",
            "C:\\Users\\neels\\AppData\\Local\\Temp\\ipykernel_1748\\2895039270.py:8: FutureWarning: The frame.append method is deprecated and will be removed from pandas in a future version. Use pandas.concat instead.\n",
            "  df = df.append(pd.DataFrame(EMAIL, columns=[\"Author\", \"Folder\", \"File\", \"Message ID\", \"Text\", \"Raw Text\"]))\n",
            "C:\\Users\\neels\\AppData\\Local\\Temp\\ipykernel_1748\\2895039270.py:8: FutureWarning: The frame.append method is deprecated and will be removed from pandas in a future version. Use pandas.concat instead.\n",
            "  df = df.append(pd.DataFrame(EMAIL, columns=[\"Author\", \"Folder\", \"File\", \"Message ID\", \"Text\", \"Raw Text\"]))\n",
            "C:\\Users\\neels\\AppData\\Local\\Temp\\ipykernel_1748\\2895039270.py:8: FutureWarning: The frame.append method is deprecated and will be removed from pandas in a future version. Use pandas.concat instead.\n",
            "  df = df.append(pd.DataFrame(EMAIL, columns=[\"Author\", \"Folder\", \"File\", \"Message ID\", \"Text\", \"Raw Text\"]))\n",
            "C:\\Users\\neels\\AppData\\Local\\Temp\\ipykernel_1748\\2895039270.py:8: FutureWarning: The frame.append method is deprecated and will be removed from pandas in a future version. Use pandas.concat instead.\n",
            "  df = df.append(pd.DataFrame(EMAIL, columns=[\"Author\", \"Folder\", \"File\", \"Message ID\", \"Text\", \"Raw Text\"]))\n",
            "C:\\Users\\neels\\AppData\\Local\\Temp\\ipykernel_1748\\2895039270.py:8: FutureWarning: The frame.append method is deprecated and will be removed from pandas in a future version. Use pandas.concat instead.\n",
            "  df = df.append(pd.DataFrame(EMAIL, columns=[\"Author\", \"Folder\", \"File\", \"Message ID\", \"Text\", \"Raw Text\"]))\n",
            "C:\\Users\\neels\\AppData\\Local\\Temp\\ipykernel_1748\\2895039270.py:8: FutureWarning: The frame.append method is deprecated and will be removed from pandas in a future version. Use pandas.concat instead.\n",
            "  df = df.append(pd.DataFrame(EMAIL, columns=[\"Author\", \"Folder\", \"File\", \"Message ID\", \"Text\", \"Raw Text\"]))\n",
            "C:\\Users\\neels\\AppData\\Local\\Temp\\ipykernel_1748\\2895039270.py:8: FutureWarning: The frame.append method is deprecated and will be removed from pandas in a future version. Use pandas.concat instead.\n",
            "  df = df.append(pd.DataFrame(EMAIL, columns=[\"Author\", \"Folder\", \"File\", \"Message ID\", \"Text\", \"Raw Text\"]))\n"
          ]
        },
        {
          "name": "stdout",
          "output_type": "stream",
          "text": [
            "Message ID not found for File ./maildir/presto-k/sent_items/1103\n"
          ]
        },
        {
          "name": "stderr",
          "output_type": "stream",
          "text": [
            "C:\\Users\\neels\\AppData\\Local\\Temp\\ipykernel_1748\\2895039270.py:8: FutureWarning: The frame.append method is deprecated and will be removed from pandas in a future version. Use pandas.concat instead.\n",
            "  df = df.append(pd.DataFrame(EMAIL, columns=[\"Author\", \"Folder\", \"File\", \"Message ID\", \"Text\", \"Raw Text\"]))\n",
            "C:\\Users\\neels\\AppData\\Local\\Temp\\ipykernel_1748\\2895039270.py:8: FutureWarning: The frame.append method is deprecated and will be removed from pandas in a future version. Use pandas.concat instead.\n",
            "  df = df.append(pd.DataFrame(EMAIL, columns=[\"Author\", \"Folder\", \"File\", \"Message ID\", \"Text\", \"Raw Text\"]))\n"
          ]
        },
        {
          "name": "stdout",
          "output_type": "stream",
          "text": [
            "Message ID not found for File ./maildir/quigley-d/sent_items/37\n"
          ]
        },
        {
          "name": "stderr",
          "output_type": "stream",
          "text": [
            "C:\\Users\\neels\\AppData\\Local\\Temp\\ipykernel_1748\\2895039270.py:8: FutureWarning: The frame.append method is deprecated and will be removed from pandas in a future version. Use pandas.concat instead.\n",
            "  df = df.append(pd.DataFrame(EMAIL, columns=[\"Author\", \"Folder\", \"File\", \"Message ID\", \"Text\", \"Raw Text\"]))\n",
            "C:\\Users\\neels\\AppData\\Local\\Temp\\ipykernel_1748\\2895039270.py:8: FutureWarning: The frame.append method is deprecated and will be removed from pandas in a future version. Use pandas.concat instead.\n",
            "  df = df.append(pd.DataFrame(EMAIL, columns=[\"Author\", \"Folder\", \"File\", \"Message ID\", \"Text\", \"Raw Text\"]))\n",
            "C:\\Users\\neels\\AppData\\Local\\Temp\\ipykernel_1748\\2895039270.py:8: FutureWarning: The frame.append method is deprecated and will be removed from pandas in a future version. Use pandas.concat instead.\n",
            "  df = df.append(pd.DataFrame(EMAIL, columns=[\"Author\", \"Folder\", \"File\", \"Message ID\", \"Text\", \"Raw Text\"]))\n",
            "C:\\Users\\neels\\AppData\\Local\\Temp\\ipykernel_1748\\2895039270.py:8: FutureWarning: The frame.append method is deprecated and will be removed from pandas in a future version. Use pandas.concat instead.\n",
            "  df = df.append(pd.DataFrame(EMAIL, columns=[\"Author\", \"Folder\", \"File\", \"Message ID\", \"Text\", \"Raw Text\"]))\n",
            "C:\\Users\\neels\\AppData\\Local\\Temp\\ipykernel_1748\\2895039270.py:8: FutureWarning: The frame.append method is deprecated and will be removed from pandas in a future version. Use pandas.concat instead.\n",
            "  df = df.append(pd.DataFrame(EMAIL, columns=[\"Author\", \"Folder\", \"File\", \"Message ID\", \"Text\", \"Raw Text\"]))\n",
            "C:\\Users\\neels\\AppData\\Local\\Temp\\ipykernel_1748\\2895039270.py:8: FutureWarning: The frame.append method is deprecated and will be removed from pandas in a future version. Use pandas.concat instead.\n",
            "  df = df.append(pd.DataFrame(EMAIL, columns=[\"Author\", \"Folder\", \"File\", \"Message ID\", \"Text\", \"Raw Text\"]))\n",
            "C:\\Users\\neels\\AppData\\Local\\Temp\\ipykernel_1748\\2895039270.py:8: FutureWarning: The frame.append method is deprecated and will be removed from pandas in a future version. Use pandas.concat instead.\n",
            "  df = df.append(pd.DataFrame(EMAIL, columns=[\"Author\", \"Folder\", \"File\", \"Message ID\", \"Text\", \"Raw Text\"]))\n",
            "C:\\Users\\neels\\AppData\\Local\\Temp\\ipykernel_1748\\2895039270.py:8: FutureWarning: The frame.append method is deprecated and will be removed from pandas in a future version. Use pandas.concat instead.\n",
            "  df = df.append(pd.DataFrame(EMAIL, columns=[\"Author\", \"Folder\", \"File\", \"Message ID\", \"Text\", \"Raw Text\"]))\n",
            "C:\\Users\\neels\\AppData\\Local\\Temp\\ipykernel_1748\\2895039270.py:8: FutureWarning: The frame.append method is deprecated and will be removed from pandas in a future version. Use pandas.concat instead.\n",
            "  df = df.append(pd.DataFrame(EMAIL, columns=[\"Author\", \"Folder\", \"File\", \"Message ID\", \"Text\", \"Raw Text\"]))\n",
            "C:\\Users\\neels\\AppData\\Local\\Temp\\ipykernel_1748\\2895039270.py:8: FutureWarning: The frame.append method is deprecated and will be removed from pandas in a future version. Use pandas.concat instead.\n",
            "  df = df.append(pd.DataFrame(EMAIL, columns=[\"Author\", \"Folder\", \"File\", \"Message ID\", \"Text\", \"Raw Text\"]))\n",
            "C:\\Users\\neels\\AppData\\Local\\Temp\\ipykernel_1748\\2895039270.py:8: FutureWarning: The frame.append method is deprecated and will be removed from pandas in a future version. Use pandas.concat instead.\n",
            "  df = df.append(pd.DataFrame(EMAIL, columns=[\"Author\", \"Folder\", \"File\", \"Message ID\", \"Text\", \"Raw Text\"]))\n",
            "C:\\Users\\neels\\AppData\\Local\\Temp\\ipykernel_1748\\2895039270.py:8: FutureWarning: The frame.append method is deprecated and will be removed from pandas in a future version. Use pandas.concat instead.\n",
            "  df = df.append(pd.DataFrame(EMAIL, columns=[\"Author\", \"Folder\", \"File\", \"Message ID\", \"Text\", \"Raw Text\"]))\n",
            "C:\\Users\\neels\\AppData\\Local\\Temp\\ipykernel_1748\\2895039270.py:8: FutureWarning: The frame.append method is deprecated and will be removed from pandas in a future version. Use pandas.concat instead.\n",
            "  df = df.append(pd.DataFrame(EMAIL, columns=[\"Author\", \"Folder\", \"File\", \"Message ID\", \"Text\", \"Raw Text\"]))\n",
            "C:\\Users\\neels\\AppData\\Local\\Temp\\ipykernel_1748\\2895039270.py:8: FutureWarning: The frame.append method is deprecated and will be removed from pandas in a future version. Use pandas.concat instead.\n",
            "  df = df.append(pd.DataFrame(EMAIL, columns=[\"Author\", \"Folder\", \"File\", \"Message ID\", \"Text\", \"Raw Text\"]))\n",
            "C:\\Users\\neels\\AppData\\Local\\Temp\\ipykernel_1748\\2895039270.py:8: FutureWarning: The frame.append method is deprecated and will be removed from pandas in a future version. Use pandas.concat instead.\n",
            "  df = df.append(pd.DataFrame(EMAIL, columns=[\"Author\", \"Folder\", \"File\", \"Message ID\", \"Text\", \"Raw Text\"]))\n",
            "C:\\Users\\neels\\AppData\\Local\\Temp\\ipykernel_1748\\2895039270.py:8: FutureWarning: The frame.append method is deprecated and will be removed from pandas in a future version. Use pandas.concat instead.\n",
            "  df = df.append(pd.DataFrame(EMAIL, columns=[\"Author\", \"Folder\", \"File\", \"Message ID\", \"Text\", \"Raw Text\"]))\n",
            "C:\\Users\\neels\\AppData\\Local\\Temp\\ipykernel_1748\\2895039270.py:8: FutureWarning: The frame.append method is deprecated and will be removed from pandas in a future version. Use pandas.concat instead.\n",
            "  df = df.append(pd.DataFrame(EMAIL, columns=[\"Author\", \"Folder\", \"File\", \"Message ID\", \"Text\", \"Raw Text\"]))\n"
          ]
        },
        {
          "name": "stdout",
          "output_type": "stream",
          "text": [
            "Message ID not found for File ./maildir/scott-s/sent_items/3\n"
          ]
        },
        {
          "name": "stderr",
          "output_type": "stream",
          "text": [
            "C:\\Users\\neels\\AppData\\Local\\Temp\\ipykernel_1748\\2895039270.py:8: FutureWarning: The frame.append method is deprecated and will be removed from pandas in a future version. Use pandas.concat instead.\n",
            "  df = df.append(pd.DataFrame(EMAIL, columns=[\"Author\", \"Folder\", \"File\", \"Message ID\", \"Text\", \"Raw Text\"]))\n",
            "C:\\Users\\neels\\AppData\\Local\\Temp\\ipykernel_1748\\2895039270.py:8: FutureWarning: The frame.append method is deprecated and will be removed from pandas in a future version. Use pandas.concat instead.\n",
            "  df = df.append(pd.DataFrame(EMAIL, columns=[\"Author\", \"Folder\", \"File\", \"Message ID\", \"Text\", \"Raw Text\"]))\n",
            "C:\\Users\\neels\\AppData\\Local\\Temp\\ipykernel_1748\\2895039270.py:8: FutureWarning: The frame.append method is deprecated and will be removed from pandas in a future version. Use pandas.concat instead.\n",
            "  df = df.append(pd.DataFrame(EMAIL, columns=[\"Author\", \"Folder\", \"File\", \"Message ID\", \"Text\", \"Raw Text\"]))\n",
            "C:\\Users\\neels\\AppData\\Local\\Temp\\ipykernel_1748\\2895039270.py:8: FutureWarning: The frame.append method is deprecated and will be removed from pandas in a future version. Use pandas.concat instead.\n",
            "  df = df.append(pd.DataFrame(EMAIL, columns=[\"Author\", \"Folder\", \"File\", \"Message ID\", \"Text\", \"Raw Text\"]))\n",
            "C:\\Users\\neels\\AppData\\Local\\Temp\\ipykernel_1748\\2895039270.py:8: FutureWarning: The frame.append method is deprecated and will be removed from pandas in a future version. Use pandas.concat instead.\n",
            "  df = df.append(pd.DataFrame(EMAIL, columns=[\"Author\", \"Folder\", \"File\", \"Message ID\", \"Text\", \"Raw Text\"]))\n",
            "C:\\Users\\neels\\AppData\\Local\\Temp\\ipykernel_1748\\2895039270.py:8: FutureWarning: The frame.append method is deprecated and will be removed from pandas in a future version. Use pandas.concat instead.\n",
            "  df = df.append(pd.DataFrame(EMAIL, columns=[\"Author\", \"Folder\", \"File\", \"Message ID\", \"Text\", \"Raw Text\"]))\n",
            "C:\\Users\\neels\\AppData\\Local\\Temp\\ipykernel_1748\\2895039270.py:8: FutureWarning: The frame.append method is deprecated and will be removed from pandas in a future version. Use pandas.concat instead.\n",
            "  df = df.append(pd.DataFrame(EMAIL, columns=[\"Author\", \"Folder\", \"File\", \"Message ID\", \"Text\", \"Raw Text\"]))\n",
            "C:\\Users\\neels\\AppData\\Local\\Temp\\ipykernel_1748\\2895039270.py:8: FutureWarning: The frame.append method is deprecated and will be removed from pandas in a future version. Use pandas.concat instead.\n",
            "  df = df.append(pd.DataFrame(EMAIL, columns=[\"Author\", \"Folder\", \"File\", \"Message ID\", \"Text\", \"Raw Text\"]))\n",
            "C:\\Users\\neels\\AppData\\Local\\Temp\\ipykernel_1748\\2895039270.py:8: FutureWarning: The frame.append method is deprecated and will be removed from pandas in a future version. Use pandas.concat instead.\n",
            "  df = df.append(pd.DataFrame(EMAIL, columns=[\"Author\", \"Folder\", \"File\", \"Message ID\", \"Text\", \"Raw Text\"]))\n",
            "C:\\Users\\neels\\AppData\\Local\\Temp\\ipykernel_1748\\2895039270.py:8: FutureWarning: The frame.append method is deprecated and will be removed from pandas in a future version. Use pandas.concat instead.\n",
            "  df = df.append(pd.DataFrame(EMAIL, columns=[\"Author\", \"Folder\", \"File\", \"Message ID\", \"Text\", \"Raw Text\"]))\n",
            "C:\\Users\\neels\\AppData\\Local\\Temp\\ipykernel_1748\\2895039270.py:8: FutureWarning: The frame.append method is deprecated and will be removed from pandas in a future version. Use pandas.concat instead.\n",
            "  df = df.append(pd.DataFrame(EMAIL, columns=[\"Author\", \"Folder\", \"File\", \"Message ID\", \"Text\", \"Raw Text\"]))\n",
            "C:\\Users\\neels\\AppData\\Local\\Temp\\ipykernel_1748\\2895039270.py:8: FutureWarning: The frame.append method is deprecated and will be removed from pandas in a future version. Use pandas.concat instead.\n",
            "  df = df.append(pd.DataFrame(EMAIL, columns=[\"Author\", \"Folder\", \"File\", \"Message ID\", \"Text\", \"Raw Text\"]))\n",
            "C:\\Users\\neels\\AppData\\Local\\Temp\\ipykernel_1748\\2895039270.py:8: FutureWarning: The frame.append method is deprecated and will be removed from pandas in a future version. Use pandas.concat instead.\n",
            "  df = df.append(pd.DataFrame(EMAIL, columns=[\"Author\", \"Folder\", \"File\", \"Message ID\", \"Text\", \"Raw Text\"]))\n",
            "C:\\Users\\neels\\AppData\\Local\\Temp\\ipykernel_1748\\2895039270.py:8: FutureWarning: The frame.append method is deprecated and will be removed from pandas in a future version. Use pandas.concat instead.\n",
            "  df = df.append(pd.DataFrame(EMAIL, columns=[\"Author\", \"Folder\", \"File\", \"Message ID\", \"Text\", \"Raw Text\"]))\n",
            "C:\\Users\\neels\\AppData\\Local\\Temp\\ipykernel_1748\\2895039270.py:8: FutureWarning: The frame.append method is deprecated and will be removed from pandas in a future version. Use pandas.concat instead.\n",
            "  df = df.append(pd.DataFrame(EMAIL, columns=[\"Author\", \"Folder\", \"File\", \"Message ID\", \"Text\", \"Raw Text\"]))\n",
            "C:\\Users\\neels\\AppData\\Local\\Temp\\ipykernel_1748\\2895039270.py:8: FutureWarning: The frame.append method is deprecated and will be removed from pandas in a future version. Use pandas.concat instead.\n",
            "  df = df.append(pd.DataFrame(EMAIL, columns=[\"Author\", \"Folder\", \"File\", \"Message ID\", \"Text\", \"Raw Text\"]))\n",
            "C:\\Users\\neels\\AppData\\Local\\Temp\\ipykernel_1748\\2895039270.py:8: FutureWarning: The frame.append method is deprecated and will be removed from pandas in a future version. Use pandas.concat instead.\n",
            "  df = df.append(pd.DataFrame(EMAIL, columns=[\"Author\", \"Folder\", \"File\", \"Message ID\", \"Text\", \"Raw Text\"]))\n",
            "C:\\Users\\neels\\AppData\\Local\\Temp\\ipykernel_1748\\2895039270.py:8: FutureWarning: The frame.append method is deprecated and will be removed from pandas in a future version. Use pandas.concat instead.\n",
            "  df = df.append(pd.DataFrame(EMAIL, columns=[\"Author\", \"Folder\", \"File\", \"Message ID\", \"Text\", \"Raw Text\"]))\n",
            "C:\\Users\\neels\\AppData\\Local\\Temp\\ipykernel_1748\\2895039270.py:8: FutureWarning: The frame.append method is deprecated and will be removed from pandas in a future version. Use pandas.concat instead.\n",
            "  df = df.append(pd.DataFrame(EMAIL, columns=[\"Author\", \"Folder\", \"File\", \"Message ID\", \"Text\", \"Raw Text\"]))\n",
            "C:\\Users\\neels\\AppData\\Local\\Temp\\ipykernel_1748\\2895039270.py:8: FutureWarning: The frame.append method is deprecated and will be removed from pandas in a future version. Use pandas.concat instead.\n",
            "  df = df.append(pd.DataFrame(EMAIL, columns=[\"Author\", \"Folder\", \"File\", \"Message ID\", \"Text\", \"Raw Text\"]))\n"
          ]
        },
        {
          "name": "stdout",
          "output_type": "stream",
          "text": [
            "Message ID not found for File ./maildir/tholt-j/sent_items/1\n"
          ]
        },
        {
          "name": "stderr",
          "output_type": "stream",
          "text": [
            "C:\\Users\\neels\\AppData\\Local\\Temp\\ipykernel_1748\\2895039270.py:8: FutureWarning: The frame.append method is deprecated and will be removed from pandas in a future version. Use pandas.concat instead.\n",
            "  df = df.append(pd.DataFrame(EMAIL, columns=[\"Author\", \"Folder\", \"File\", \"Message ID\", \"Text\", \"Raw Text\"]))\n",
            "C:\\Users\\neels\\AppData\\Local\\Temp\\ipykernel_1748\\2895039270.py:8: FutureWarning: The frame.append method is deprecated and will be removed from pandas in a future version. Use pandas.concat instead.\n",
            "  df = df.append(pd.DataFrame(EMAIL, columns=[\"Author\", \"Folder\", \"File\", \"Message ID\", \"Text\", \"Raw Text\"]))\n",
            "C:\\Users\\neels\\AppData\\Local\\Temp\\ipykernel_1748\\2895039270.py:8: FutureWarning: The frame.append method is deprecated and will be removed from pandas in a future version. Use pandas.concat instead.\n",
            "  df = df.append(pd.DataFrame(EMAIL, columns=[\"Author\", \"Folder\", \"File\", \"Message ID\", \"Text\", \"Raw Text\"]))\n",
            "C:\\Users\\neels\\AppData\\Local\\Temp\\ipykernel_1748\\2895039270.py:8: FutureWarning: The frame.append method is deprecated and will be removed from pandas in a future version. Use pandas.concat instead.\n",
            "  df = df.append(pd.DataFrame(EMAIL, columns=[\"Author\", \"Folder\", \"File\", \"Message ID\", \"Text\", \"Raw Text\"]))\n",
            "C:\\Users\\neels\\AppData\\Local\\Temp\\ipykernel_1748\\2895039270.py:8: FutureWarning: The frame.append method is deprecated and will be removed from pandas in a future version. Use pandas.concat instead.\n",
            "  df = df.append(pd.DataFrame(EMAIL, columns=[\"Author\", \"Folder\", \"File\", \"Message ID\", \"Text\", \"Raw Text\"]))\n",
            "C:\\Users\\neels\\AppData\\Local\\Temp\\ipykernel_1748\\2895039270.py:8: FutureWarning: The frame.append method is deprecated and will be removed from pandas in a future version. Use pandas.concat instead.\n",
            "  df = df.append(pd.DataFrame(EMAIL, columns=[\"Author\", \"Folder\", \"File\", \"Message ID\", \"Text\", \"Raw Text\"]))\n"
          ]
        },
        {
          "name": "stdout",
          "output_type": "stream",
          "text": [
            "Message ID not found for File ./maildir/weldon-c/sent_items/27\n"
          ]
        },
        {
          "name": "stderr",
          "output_type": "stream",
          "text": [
            "C:\\Users\\neels\\AppData\\Local\\Temp\\ipykernel_1748\\2895039270.py:8: FutureWarning: The frame.append method is deprecated and will be removed from pandas in a future version. Use pandas.concat instead.\n",
            "  df = df.append(pd.DataFrame(EMAIL, columns=[\"Author\", \"Folder\", \"File\", \"Message ID\", \"Text\", \"Raw Text\"]))\n",
            "C:\\Users\\neels\\AppData\\Local\\Temp\\ipykernel_1748\\2895039270.py:8: FutureWarning: The frame.append method is deprecated and will be removed from pandas in a future version. Use pandas.concat instead.\n",
            "  df = df.append(pd.DataFrame(EMAIL, columns=[\"Author\", \"Folder\", \"File\", \"Message ID\", \"Text\", \"Raw Text\"]))\n",
            "C:\\Users\\neels\\AppData\\Local\\Temp\\ipykernel_1748\\2895039270.py:8: FutureWarning: The frame.append method is deprecated and will be removed from pandas in a future version. Use pandas.concat instead.\n",
            "  df = df.append(pd.DataFrame(EMAIL, columns=[\"Author\", \"Folder\", \"File\", \"Message ID\", \"Text\", \"Raw Text\"]))\n",
            "C:\\Users\\neels\\AppData\\Local\\Temp\\ipykernel_1748\\2895039270.py:8: FutureWarning: The frame.append method is deprecated and will be removed from pandas in a future version. Use pandas.concat instead.\n",
            "  df = df.append(pd.DataFrame(EMAIL, columns=[\"Author\", \"Folder\", \"File\", \"Message ID\", \"Text\", \"Raw Text\"]))\n",
            "C:\\Users\\neels\\AppData\\Local\\Temp\\ipykernel_1748\\2895039270.py:8: FutureWarning: The frame.append method is deprecated and will be removed from pandas in a future version. Use pandas.concat instead.\n",
            "  df = df.append(pd.DataFrame(EMAIL, columns=[\"Author\", \"Folder\", \"File\", \"Message ID\", \"Text\", \"Raw Text\"]))\n",
            "C:\\Users\\neels\\AppData\\Local\\Temp\\ipykernel_1748\\2895039270.py:8: FutureWarning: The frame.append method is deprecated and will be removed from pandas in a future version. Use pandas.concat instead.\n",
            "  df = df.append(pd.DataFrame(EMAIL, columns=[\"Author\", \"Folder\", \"File\", \"Message ID\", \"Text\", \"Raw Text\"]))\n",
            "C:\\Users\\neels\\AppData\\Local\\Temp\\ipykernel_1748\\2895039270.py:8: FutureWarning: The frame.append method is deprecated and will be removed from pandas in a future version. Use pandas.concat instead.\n",
            "  df = df.append(pd.DataFrame(EMAIL, columns=[\"Author\", \"Folder\", \"File\", \"Message ID\", \"Text\", \"Raw Text\"]))\n",
            "C:\\Users\\neels\\AppData\\Local\\Temp\\ipykernel_1748\\2895039270.py:8: FutureWarning: The frame.append method is deprecated and will be removed from pandas in a future version. Use pandas.concat instead.\n",
            "  df = df.append(pd.DataFrame(EMAIL, columns=[\"Author\", \"Folder\", \"File\", \"Message ID\", \"Text\", \"Raw Text\"]))\n"
          ]
        },
        {
          "name": "stdout",
          "output_type": "stream",
          "text": [
            "Message ID not found for File ./maildir/ybarbo-p/sent_items/34\n"
          ]
        },
        {
          "name": "stderr",
          "output_type": "stream",
          "text": [
            "C:\\Users\\neels\\AppData\\Local\\Temp\\ipykernel_1748\\2895039270.py:8: FutureWarning: The frame.append method is deprecated and will be removed from pandas in a future version. Use pandas.concat instead.\n",
            "  df = df.append(pd.DataFrame(EMAIL, columns=[\"Author\", \"Folder\", \"File\", \"Message ID\", \"Text\", \"Raw Text\"]))\n",
            "C:\\Users\\neels\\AppData\\Local\\Temp\\ipykernel_1748\\2895039270.py:8: FutureWarning: The frame.append method is deprecated and will be removed from pandas in a future version. Use pandas.concat instead.\n",
            "  df = df.append(pd.DataFrame(EMAIL, columns=[\"Author\", \"Folder\", \"File\", \"Message ID\", \"Text\", \"Raw Text\"]))\n",
            "C:\\Users\\neels\\AppData\\Local\\Temp\\ipykernel_1748\\2895039270.py:8: FutureWarning: The frame.append method is deprecated and will be removed from pandas in a future version. Use pandas.concat instead.\n",
            "  df = df.append(pd.DataFrame(EMAIL, columns=[\"Author\", \"Folder\", \"File\", \"Message ID\", \"Text\", \"Raw Text\"]))\n"
          ]
        },
        {
          "name": "stdout",
          "output_type": "stream",
          "text": [
            "Folder       \n",
            "mann-k           8177\n",
            "kaminski-v       6376\n",
            "dasovich-j       4827\n",
            "germany-c        4652\n",
            "shackleton-s     4075\n",
            "jones-t          3376\n",
            "bass-e           2703\n",
            "beck-s           2631\n",
            "symes-k          2617\n",
            "lenhart-m        2572\n",
            "scott-s          2444\n",
            "perlingiere-d    2339\n",
            "taylor-m         2185\n",
            "arnold-j         2174\n",
            "love-p           2052\n",
            "nemec-g          2039\n",
            "fossum-d         2038\n",
            "lavorato-j       1765\n",
            "rogers-b         1723\n",
            "delainey-d       1662\n",
            "dtype: int64\n"
          ]
        },
        {
          "data": {
            "text/html": [
              "<div>\n",
              "<style scoped>\n",
              "    .dataframe tbody tr th:only-of-type {\n",
              "        vertical-align: middle;\n",
              "    }\n",
              "\n",
              "    .dataframe tbody tr th {\n",
              "        vertical-align: top;\n",
              "    }\n",
              "\n",
              "    .dataframe thead th {\n",
              "        text-align: right;\n",
              "    }\n",
              "</style>\n",
              "<table border=\"1\" class=\"dataframe\">\n",
              "  <thead>\n",
              "    <tr style=\"text-align: right;\">\n",
              "      <th></th>\n",
              "      <th>Author</th>\n",
              "      <th>Folder</th>\n",
              "      <th>File</th>\n",
              "      <th>Message ID</th>\n",
              "      <th>Text</th>\n",
              "      <th>Raw Text</th>\n",
              "      <th>Email Folder</th>\n",
              "    </tr>\n",
              "  </thead>\n",
              "  <tbody>\n",
              "    <tr>\n",
              "      <th>0</th>\n",
              "      <td>Phillip K</td>\n",
              "      <td>allen-p</td>\n",
              "      <td>1</td>\n",
              "      <td>18782981.1075855378110.</td>\n",
              "      <td>Here is our forecast\\n\\n</td>\n",
              "      <td>Message-ID: &lt;18782981.1075855378110.JavaMail.e...</td>\n",
              "      <td>NaN</td>\n",
              "    </tr>\n",
              "    <tr>\n",
              "      <th>1</th>\n",
              "      <td>Phillip K</td>\n",
              "      <td>allen-p</td>\n",
              "      <td>10</td>\n",
              "      <td>15464986.1075855378456.</td>\n",
              "      <td>Traveling to have a business meeting takes the...</td>\n",
              "      <td>Message-ID: &lt;15464986.1075855378456.JavaMail.e...</td>\n",
              "      <td>NaN</td>\n",
              "    </tr>\n",
              "    <tr>\n",
              "      <th>2</th>\n",
              "      <td>Phillip K</td>\n",
              "      <td>allen-p</td>\n",
              "      <td>100</td>\n",
              "      <td>24216240.1075855687451.</td>\n",
              "      <td>test successful.  way to go!!!</td>\n",
              "      <td>Message-ID: &lt;24216240.1075855687451.JavaMail.e...</td>\n",
              "      <td>NaN</td>\n",
              "    </tr>\n",
              "    <tr>\n",
              "      <th>3</th>\n",
              "      <td>Phillip K</td>\n",
              "      <td>allen-p</td>\n",
              "      <td>1000</td>\n",
              "      <td>13505866.1075863688222.</td>\n",
              "      <td>Randy,\\n\\n Can you send me a schedule of the s...</td>\n",
              "      <td>Message-ID: &lt;13505866.1075863688222.JavaMail.e...</td>\n",
              "      <td>NaN</td>\n",
              "    </tr>\n",
              "    <tr>\n",
              "      <th>4</th>\n",
              "      <td>Phillip K</td>\n",
              "      <td>allen-p</td>\n",
              "      <td>1001</td>\n",
              "      <td>30922949.1075863688243.</td>\n",
              "      <td>Let's shoot for Tuesday at 11:45.</td>\n",
              "      <td>Message-ID: &lt;30922949.1075863688243.JavaMail.e...</td>\n",
              "      <td>NaN</td>\n",
              "    </tr>\n",
              "    <tr>\n",
              "      <th>...</th>\n",
              "      <td>...</td>\n",
              "      <td>...</td>\n",
              "      <td>...</td>\n",
              "      <td>...</td>\n",
              "      <td>...</td>\n",
              "      <td>...</td>\n",
              "      <td>...</td>\n",
              "    </tr>\n",
              "    <tr>\n",
              "      <th>333</th>\n",
              "      <td>Zufferli, John</td>\n",
              "      <td>zufferli-j</td>\n",
              "      <td>95</td>\n",
              "      <td>26807948.1075842029936.</td>\n",
              "      <td>This is a trade with OIL-SPEC-HEDGE-NG (John L...</td>\n",
              "      <td>Message-ID: &lt;26807948.1075842029936.JavaMail.e...</td>\n",
              "      <td>NaN</td>\n",
              "    </tr>\n",
              "    <tr>\n",
              "      <th>334</th>\n",
              "      <td>Zufferli, John</td>\n",
              "      <td>zufferli-j</td>\n",
              "      <td>96</td>\n",
              "      <td>25835861.1075842029959.</td>\n",
              "      <td>Some of my position is with the Alberta Term b...</td>\n",
              "      <td>Message-ID: &lt;25835861.1075842029959.JavaMail.e...</td>\n",
              "      <td>NaN</td>\n",
              "    </tr>\n",
              "    <tr>\n",
              "      <th>335</th>\n",
              "      <td>Zufferli, John</td>\n",
              "      <td>zufferli-j</td>\n",
              "      <td>97</td>\n",
              "      <td>28979867.1075842029988.</td>\n",
              "      <td>2\\n\\n</td>\n",
              "      <td>Message-ID: &lt;28979867.1075842029988.JavaMail.e...</td>\n",
              "      <td>NaN</td>\n",
              "    </tr>\n",
              "    <tr>\n",
              "      <th>336</th>\n",
              "      <td>Zufferli, John</td>\n",
              "      <td>zufferli-j</td>\n",
              "      <td>98</td>\n",
              "      <td>22052556.1075842030013.</td>\n",
              "      <td>Analyst\\t\\t\\t\\t\\tRank\\n\\nStephane Brodeur\\t\\t\\...</td>\n",
              "      <td>Message-ID: &lt;22052556.1075842030013.JavaMail.e...</td>\n",
              "      <td>NaN</td>\n",
              "    </tr>\n",
              "    <tr>\n",
              "      <th>337</th>\n",
              "      <td>Zufferli, John</td>\n",
              "      <td>zufferli-j</td>\n",
              "      <td>99</td>\n",
              "      <td>28618979.1075842030037.</td>\n",
              "      <td>i think the YMCA has a class that is for peopl...</td>\n",
              "      <td>Message-ID: &lt;28618979.1075842030037.JavaMail.e...</td>\n",
              "      <td>NaN</td>\n",
              "    </tr>\n",
              "  </tbody>\n",
              "</table>\n",
              "<p>113351 rows × 7 columns</p>\n",
              "</div>"
            ],
            "text/plain": [
              "             Author      Folder  File               Message ID  \\\n",
              "0         Phillip K     allen-p     1  18782981.1075855378110.   \n",
              "1         Phillip K     allen-p    10  15464986.1075855378456.   \n",
              "2         Phillip K     allen-p   100  24216240.1075855687451.   \n",
              "3         Phillip K     allen-p  1000  13505866.1075863688222.   \n",
              "4         Phillip K     allen-p  1001  30922949.1075863688243.   \n",
              "..              ...         ...   ...                      ...   \n",
              "333  Zufferli, John  zufferli-j    95  26807948.1075842029936.   \n",
              "334  Zufferli, John  zufferli-j    96  25835861.1075842029959.   \n",
              "335  Zufferli, John  zufferli-j    97  28979867.1075842029988.   \n",
              "336  Zufferli, John  zufferli-j    98  22052556.1075842030013.   \n",
              "337  Zufferli, John  zufferli-j    99  28618979.1075842030037.   \n",
              "\n",
              "                                                  Text  \\\n",
              "0                             Here is our forecast\\n\\n   \n",
              "1    Traveling to have a business meeting takes the...   \n",
              "2                       test successful.  way to go!!!   \n",
              "3    Randy,\\n\\n Can you send me a schedule of the s...   \n",
              "4                  Let's shoot for Tuesday at 11:45.     \n",
              "..                                                 ...   \n",
              "333  This is a trade with OIL-SPEC-HEDGE-NG (John L...   \n",
              "334  Some of my position is with the Alberta Term b...   \n",
              "335                                             2\\n\\n    \n",
              "336  Analyst\\t\\t\\t\\t\\tRank\\n\\nStephane Brodeur\\t\\t\\...   \n",
              "337  i think the YMCA has a class that is for peopl...   \n",
              "\n",
              "                                              Raw Text Email Folder  \n",
              "0    Message-ID: <18782981.1075855378110.JavaMail.e...          NaN  \n",
              "1    Message-ID: <15464986.1075855378456.JavaMail.e...          NaN  \n",
              "2    Message-ID: <24216240.1075855687451.JavaMail.e...          NaN  \n",
              "3    Message-ID: <13505866.1075863688222.JavaMail.e...          NaN  \n",
              "4    Message-ID: <30922949.1075863688243.JavaMail.e...          NaN  \n",
              "..                                                 ...          ...  \n",
              "333  Message-ID: <26807948.1075842029936.JavaMail.e...          NaN  \n",
              "334  Message-ID: <25835861.1075842029959.JavaMail.e...          NaN  \n",
              "335  Message-ID: <28979867.1075842029988.JavaMail.e...          NaN  \n",
              "336  Message-ID: <22052556.1075842030013.JavaMail.e...          NaN  \n",
              "337  Message-ID: <28618979.1075842030037.JavaMail.e...          NaN  \n",
              "\n",
              "[113351 rows x 7 columns]"
            ]
          },
          "execution_count": 6,
          "metadata": {},
          "output_type": "execute_result"
        }
      ],
      "source": [
        "# this is our main calller function which loops over all the authors in the maildir folder\n",
        "\n",
        "AUTHORS = os.listdir(\"./maildir\")\n",
        "number_author_folders = len(AUTHORS)\n",
        "df = pd.DataFrame(columns=[\"Author\", \"Folder\", \"File\", \"Message ID\", \"Text\", \"Raw Text\", \"Email Folder\"])\n",
        "\n",
        "for AUThor in AUTHORS:\n",
        "    EMAIL = extract_email(AUThor)\n",
        "    if EMAIL:\n",
        "        row = pd.DataFrame(EMAIL, columns=[\"Author\", \"Folder\", \"File\", \"Message ID\", \"Text\", \"Raw Text\"])\n",
        "        df = pd.concat(df, row)\n",
        "\n",
        "df = df.drop_duplicates([\"Message ID\"])\n",
        "df = df[df[\"Text\"].notna()]\n",
        "\n",
        "print(df.value_counts([\"Folder\"])[:20])\n",
        "df"
      ]
    },
    {
      "cell_type": "code",
      "execution_count": 7,
      "id": "8d682fce",
      "metadata": {
        "id": "8d682fce"
      },
      "outputs": [],
      "source": [
        "# converting dataframe to csv so that we don't need to run these steps every time \n",
        "\n",
        "df.to_csv(\"./enron.csv\")\n"
      ]
    },
    {
      "cell_type": "code",
      "execution_count": 8,
      "id": "42368d77",
      "metadata": {
        "id": "42368d77"
      },
      "outputs": [],
      "source": [
        "# this completes our Step 2"
      ]
    },
    {
      "cell_type": "code",
      "execution_count": null,
      "id": "f7339f69",
      "metadata": {},
      "outputs": [],
      "source": []
    }
  ],
  "metadata": {
    "colab": {
      "provenance": []
    },
    "kernelspec": {
      "display_name": "Python 3 (ipykernel)",
      "language": "python",
      "name": "python3"
    },
    "language_info": {
      "codemirror_mode": {
        "name": "ipython",
        "version": 3
      },
      "file_extension": ".py",
      "mimetype": "text/x-python",
      "name": "python",
      "nbconvert_exporter": "python",
      "pygments_lexer": "ipython3",
      "version": "3.10.6"
    }
  },
  "nbformat": 4,
  "nbformat_minor": 5
}
